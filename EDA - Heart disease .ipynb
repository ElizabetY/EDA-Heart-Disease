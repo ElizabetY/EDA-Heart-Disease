{
 "cells": [
  {
   "cell_type": "markdown",
   "id": "fa3928e0",
   "metadata": {},
   "source": [
    "# <font color=red>Mini project </font>"
   ]
  },
  {
   "cell_type": "markdown",
   "id": "6bba1c3a",
   "metadata": {},
   "source": [
    "# 1.Choose a dataset\n"
   ]
  },
  {
   "cell_type": "code",
   "execution_count": 64,
   "id": "5d3f8a68",
   "metadata": {},
   "outputs": [],
   "source": [
    "import numpy as np\n",
    "import pandas as pd\n",
    "import matplotlib.pyplot as plt\n",
    "import seaborn as sns\n",
    "%matplotlib inline"
   ]
  },
  {
   "cell_type": "code",
   "execution_count": 65,
   "id": "0ea4a1a9",
   "metadata": {},
   "outputs": [
    {
     "data": {
      "text/html": [
       "<div>\n",
       "<style scoped>\n",
       "    .dataframe tbody tr th:only-of-type {\n",
       "        vertical-align: middle;\n",
       "    }\n",
       "\n",
       "    .dataframe tbody tr th {\n",
       "        vertical-align: top;\n",
       "    }\n",
       "\n",
       "    .dataframe thead th {\n",
       "        text-align: right;\n",
       "    }\n",
       "</style>\n",
       "<table border=\"1\" class=\"dataframe\">\n",
       "  <thead>\n",
       "    <tr style=\"text-align: right;\">\n",
       "      <th></th>\n",
       "      <th>age</th>\n",
       "      <th>sex</th>\n",
       "      <th>cp</th>\n",
       "      <th>trestbps</th>\n",
       "      <th>chol</th>\n",
       "      <th>fbs</th>\n",
       "      <th>restecg</th>\n",
       "      <th>thalach</th>\n",
       "      <th>exang</th>\n",
       "      <th>oldpeak</th>\n",
       "      <th>slope</th>\n",
       "      <th>ca</th>\n",
       "      <th>thal</th>\n",
       "      <th>target</th>\n",
       "    </tr>\n",
       "  </thead>\n",
       "  <tbody>\n",
       "    <tr>\n",
       "      <th>0</th>\n",
       "      <td>52</td>\n",
       "      <td>1</td>\n",
       "      <td>0</td>\n",
       "      <td>125</td>\n",
       "      <td>212</td>\n",
       "      <td>0</td>\n",
       "      <td>1</td>\n",
       "      <td>168</td>\n",
       "      <td>0</td>\n",
       "      <td>1.0</td>\n",
       "      <td>2</td>\n",
       "      <td>2</td>\n",
       "      <td>3</td>\n",
       "      <td>0</td>\n",
       "    </tr>\n",
       "    <tr>\n",
       "      <th>1</th>\n",
       "      <td>53</td>\n",
       "      <td>1</td>\n",
       "      <td>0</td>\n",
       "      <td>140</td>\n",
       "      <td>203</td>\n",
       "      <td>1</td>\n",
       "      <td>0</td>\n",
       "      <td>155</td>\n",
       "      <td>1</td>\n",
       "      <td>3.1</td>\n",
       "      <td>0</td>\n",
       "      <td>0</td>\n",
       "      <td>3</td>\n",
       "      <td>0</td>\n",
       "    </tr>\n",
       "    <tr>\n",
       "      <th>2</th>\n",
       "      <td>70</td>\n",
       "      <td>1</td>\n",
       "      <td>0</td>\n",
       "      <td>145</td>\n",
       "      <td>174</td>\n",
       "      <td>0</td>\n",
       "      <td>1</td>\n",
       "      <td>125</td>\n",
       "      <td>1</td>\n",
       "      <td>2.6</td>\n",
       "      <td>0</td>\n",
       "      <td>0</td>\n",
       "      <td>3</td>\n",
       "      <td>0</td>\n",
       "    </tr>\n",
       "    <tr>\n",
       "      <th>3</th>\n",
       "      <td>61</td>\n",
       "      <td>1</td>\n",
       "      <td>0</td>\n",
       "      <td>148</td>\n",
       "      <td>203</td>\n",
       "      <td>0</td>\n",
       "      <td>1</td>\n",
       "      <td>161</td>\n",
       "      <td>0</td>\n",
       "      <td>0.0</td>\n",
       "      <td>2</td>\n",
       "      <td>1</td>\n",
       "      <td>3</td>\n",
       "      <td>0</td>\n",
       "    </tr>\n",
       "    <tr>\n",
       "      <th>4</th>\n",
       "      <td>62</td>\n",
       "      <td>0</td>\n",
       "      <td>0</td>\n",
       "      <td>138</td>\n",
       "      <td>294</td>\n",
       "      <td>1</td>\n",
       "      <td>1</td>\n",
       "      <td>106</td>\n",
       "      <td>0</td>\n",
       "      <td>1.9</td>\n",
       "      <td>1</td>\n",
       "      <td>3</td>\n",
       "      <td>2</td>\n",
       "      <td>0</td>\n",
       "    </tr>\n",
       "  </tbody>\n",
       "</table>\n",
       "</div>"
      ],
      "text/plain": [
       "   age  sex  cp  trestbps  chol  fbs  restecg  thalach  exang  oldpeak  slope  \\\n",
       "0   52    1   0       125   212    0        1      168      0      1.0      2   \n",
       "1   53    1   0       140   203    1        0      155      1      3.1      0   \n",
       "2   70    1   0       145   174    0        1      125      1      2.6      0   \n",
       "3   61    1   0       148   203    0        1      161      0      0.0      2   \n",
       "4   62    0   0       138   294    1        1      106      0      1.9      1   \n",
       "\n",
       "   ca  thal  target  \n",
       "0   2     3       0  \n",
       "1   0     3       0  \n",
       "2   0     3       0  \n",
       "3   1     3       0  \n",
       "4   3     2       0  "
      ]
     },
     "execution_count": 65,
     "metadata": {},
     "output_type": "execute_result"
    }
   ],
   "source": [
    "df = pd.read_csv('heart.csv')\n",
    "df.head()"
   ]
  },
  {
   "cell_type": "code",
   "execution_count": 66,
   "id": "2367c346",
   "metadata": {
    "scrolled": false
   },
   "outputs": [
    {
     "data": {
      "text/html": [
       "<div>\n",
       "<style scoped>\n",
       "    .dataframe tbody tr th:only-of-type {\n",
       "        vertical-align: middle;\n",
       "    }\n",
       "\n",
       "    .dataframe tbody tr th {\n",
       "        vertical-align: top;\n",
       "    }\n",
       "\n",
       "    .dataframe thead th {\n",
       "        text-align: right;\n",
       "    }\n",
       "</style>\n",
       "<table border=\"1\" class=\"dataframe\">\n",
       "  <thead>\n",
       "    <tr style=\"text-align: right;\">\n",
       "      <th></th>\n",
       "      <th>age</th>\n",
       "      <th>sex</th>\n",
       "      <th>cp</th>\n",
       "      <th>trestbps</th>\n",
       "      <th>chol</th>\n",
       "      <th>fbs</th>\n",
       "      <th>restecg</th>\n",
       "      <th>thalach</th>\n",
       "      <th>exang</th>\n",
       "      <th>oldpeak</th>\n",
       "      <th>slope</th>\n",
       "      <th>ca</th>\n",
       "      <th>thal</th>\n",
       "      <th>target</th>\n",
       "    </tr>\n",
       "  </thead>\n",
       "  <tbody>\n",
       "    <tr>\n",
       "      <th>1020</th>\n",
       "      <td>59</td>\n",
       "      <td>1</td>\n",
       "      <td>1</td>\n",
       "      <td>140</td>\n",
       "      <td>221</td>\n",
       "      <td>0</td>\n",
       "      <td>1</td>\n",
       "      <td>164</td>\n",
       "      <td>1</td>\n",
       "      <td>0.0</td>\n",
       "      <td>2</td>\n",
       "      <td>0</td>\n",
       "      <td>2</td>\n",
       "      <td>1</td>\n",
       "    </tr>\n",
       "    <tr>\n",
       "      <th>1021</th>\n",
       "      <td>60</td>\n",
       "      <td>1</td>\n",
       "      <td>0</td>\n",
       "      <td>125</td>\n",
       "      <td>258</td>\n",
       "      <td>0</td>\n",
       "      <td>0</td>\n",
       "      <td>141</td>\n",
       "      <td>1</td>\n",
       "      <td>2.8</td>\n",
       "      <td>1</td>\n",
       "      <td>1</td>\n",
       "      <td>3</td>\n",
       "      <td>0</td>\n",
       "    </tr>\n",
       "    <tr>\n",
       "      <th>1022</th>\n",
       "      <td>47</td>\n",
       "      <td>1</td>\n",
       "      <td>0</td>\n",
       "      <td>110</td>\n",
       "      <td>275</td>\n",
       "      <td>0</td>\n",
       "      <td>0</td>\n",
       "      <td>118</td>\n",
       "      <td>1</td>\n",
       "      <td>1.0</td>\n",
       "      <td>1</td>\n",
       "      <td>1</td>\n",
       "      <td>2</td>\n",
       "      <td>0</td>\n",
       "    </tr>\n",
       "    <tr>\n",
       "      <th>1023</th>\n",
       "      <td>50</td>\n",
       "      <td>0</td>\n",
       "      <td>0</td>\n",
       "      <td>110</td>\n",
       "      <td>254</td>\n",
       "      <td>0</td>\n",
       "      <td>0</td>\n",
       "      <td>159</td>\n",
       "      <td>0</td>\n",
       "      <td>0.0</td>\n",
       "      <td>2</td>\n",
       "      <td>0</td>\n",
       "      <td>2</td>\n",
       "      <td>1</td>\n",
       "    </tr>\n",
       "    <tr>\n",
       "      <th>1024</th>\n",
       "      <td>54</td>\n",
       "      <td>1</td>\n",
       "      <td>0</td>\n",
       "      <td>120</td>\n",
       "      <td>188</td>\n",
       "      <td>0</td>\n",
       "      <td>1</td>\n",
       "      <td>113</td>\n",
       "      <td>0</td>\n",
       "      <td>1.4</td>\n",
       "      <td>1</td>\n",
       "      <td>1</td>\n",
       "      <td>3</td>\n",
       "      <td>0</td>\n",
       "    </tr>\n",
       "  </tbody>\n",
       "</table>\n",
       "</div>"
      ],
      "text/plain": [
       "      age  sex  cp  trestbps  chol  fbs  restecg  thalach  exang  oldpeak  \\\n",
       "1020   59    1   1       140   221    0        1      164      1      0.0   \n",
       "1021   60    1   0       125   258    0        0      141      1      2.8   \n",
       "1022   47    1   0       110   275    0        0      118      1      1.0   \n",
       "1023   50    0   0       110   254    0        0      159      0      0.0   \n",
       "1024   54    1   0       120   188    0        1      113      0      1.4   \n",
       "\n",
       "      slope  ca  thal  target  \n",
       "1020      2   0     2       1  \n",
       "1021      1   1     3       0  \n",
       "1022      1   1     2       0  \n",
       "1023      2   0     2       1  \n",
       "1024      1   1     3       0  "
      ]
     },
     "execution_count": 66,
     "metadata": {},
     "output_type": "execute_result"
    }
   ],
   "source": [
    "df.tail()"
   ]
  },
  {
   "cell_type": "code",
   "execution_count": 67,
   "id": "b530004b",
   "metadata": {},
   "outputs": [
    {
     "data": {
      "text/plain": [
       "(1025, 14)"
      ]
     },
     "execution_count": 67,
     "metadata": {},
     "output_type": "execute_result"
    }
   ],
   "source": [
    "df.shape"
   ]
  },
  {
   "cell_type": "code",
   "execution_count": 68,
   "id": "9ef2a511",
   "metadata": {},
   "outputs": [
    {
     "data": {
      "text/plain": [
       "(302, 14)"
      ]
     },
     "execution_count": 68,
     "metadata": {},
     "output_type": "execute_result"
    }
   ],
   "source": [
    "cleandata = df.drop_duplicates()\n",
    "cleandata.shape"
   ]
  },
  {
   "cell_type": "markdown",
   "id": "4ebdb3b7",
   "metadata": {},
   "source": [
    "#### ניתן לראות כי במאגר הנתונים המקורי היו מעל 700 שורות כפולות. בגלל שמדובר במספר גבוה מאוד של רשומות, החלטנו שלא מדובר במקריות אלא בטעות ולכן בחרנו להוריד כפילויות ומעתה והלאה לעבוד רק עם רשומות ייחודיות  "
   ]
  },
  {
   "cell_type": "code",
   "execution_count": 69,
   "id": "9f8de9f8",
   "metadata": {},
   "outputs": [
    {
     "data": {
      "text/html": [
       "<div>\n",
       "<style scoped>\n",
       "    .dataframe tbody tr th:only-of-type {\n",
       "        vertical-align: middle;\n",
       "    }\n",
       "\n",
       "    .dataframe tbody tr th {\n",
       "        vertical-align: top;\n",
       "    }\n",
       "\n",
       "    .dataframe thead th {\n",
       "        text-align: right;\n",
       "    }\n",
       "</style>\n",
       "<table border=\"1\" class=\"dataframe\">\n",
       "  <thead>\n",
       "    <tr style=\"text-align: right;\">\n",
       "      <th></th>\n",
       "      <th>age</th>\n",
       "      <th>sex</th>\n",
       "      <th>cp</th>\n",
       "      <th>trestbps</th>\n",
       "      <th>chol</th>\n",
       "      <th>fbs</th>\n",
       "      <th>restecg</th>\n",
       "      <th>thalach</th>\n",
       "      <th>exang</th>\n",
       "      <th>oldpeak</th>\n",
       "      <th>slope</th>\n",
       "      <th>ca</th>\n",
       "      <th>thal</th>\n",
       "      <th>target</th>\n",
       "    </tr>\n",
       "  </thead>\n",
       "  <tbody>\n",
       "    <tr>\n",
       "      <th>0</th>\n",
       "      <td>52</td>\n",
       "      <td>1</td>\n",
       "      <td>0</td>\n",
       "      <td>125</td>\n",
       "      <td>212</td>\n",
       "      <td>0</td>\n",
       "      <td>1</td>\n",
       "      <td>168</td>\n",
       "      <td>0</td>\n",
       "      <td>1.0</td>\n",
       "      <td>2</td>\n",
       "      <td>2</td>\n",
       "      <td>3</td>\n",
       "      <td>0</td>\n",
       "    </tr>\n",
       "    <tr>\n",
       "      <th>1</th>\n",
       "      <td>53</td>\n",
       "      <td>1</td>\n",
       "      <td>0</td>\n",
       "      <td>140</td>\n",
       "      <td>203</td>\n",
       "      <td>1</td>\n",
       "      <td>0</td>\n",
       "      <td>155</td>\n",
       "      <td>1</td>\n",
       "      <td>3.1</td>\n",
       "      <td>0</td>\n",
       "      <td>0</td>\n",
       "      <td>3</td>\n",
       "      <td>0</td>\n",
       "    </tr>\n",
       "    <tr>\n",
       "      <th>2</th>\n",
       "      <td>70</td>\n",
       "      <td>1</td>\n",
       "      <td>0</td>\n",
       "      <td>145</td>\n",
       "      <td>174</td>\n",
       "      <td>0</td>\n",
       "      <td>1</td>\n",
       "      <td>125</td>\n",
       "      <td>1</td>\n",
       "      <td>2.6</td>\n",
       "      <td>0</td>\n",
       "      <td>0</td>\n",
       "      <td>3</td>\n",
       "      <td>0</td>\n",
       "    </tr>\n",
       "    <tr>\n",
       "      <th>3</th>\n",
       "      <td>61</td>\n",
       "      <td>1</td>\n",
       "      <td>0</td>\n",
       "      <td>148</td>\n",
       "      <td>203</td>\n",
       "      <td>0</td>\n",
       "      <td>1</td>\n",
       "      <td>161</td>\n",
       "      <td>0</td>\n",
       "      <td>0.0</td>\n",
       "      <td>2</td>\n",
       "      <td>1</td>\n",
       "      <td>3</td>\n",
       "      <td>0</td>\n",
       "    </tr>\n",
       "    <tr>\n",
       "      <th>4</th>\n",
       "      <td>62</td>\n",
       "      <td>0</td>\n",
       "      <td>0</td>\n",
       "      <td>138</td>\n",
       "      <td>294</td>\n",
       "      <td>1</td>\n",
       "      <td>1</td>\n",
       "      <td>106</td>\n",
       "      <td>0</td>\n",
       "      <td>1.9</td>\n",
       "      <td>1</td>\n",
       "      <td>3</td>\n",
       "      <td>2</td>\n",
       "      <td>0</td>\n",
       "    </tr>\n",
       "  </tbody>\n",
       "</table>\n",
       "</div>"
      ],
      "text/plain": [
       "   age  sex  cp  trestbps  chol  fbs  restecg  thalach  exang  oldpeak  slope  \\\n",
       "0   52    1   0       125   212    0        1      168      0      1.0      2   \n",
       "1   53    1   0       140   203    1        0      155      1      3.1      0   \n",
       "2   70    1   0       145   174    0        1      125      1      2.6      0   \n",
       "3   61    1   0       148   203    0        1      161      0      0.0      2   \n",
       "4   62    0   0       138   294    1        1      106      0      1.9      1   \n",
       "\n",
       "   ca  thal  target  \n",
       "0   2     3       0  \n",
       "1   0     3       0  \n",
       "2   0     3       0  \n",
       "3   1     3       0  \n",
       "4   3     2       0  "
      ]
     },
     "execution_count": 69,
     "metadata": {},
     "output_type": "execute_result"
    }
   ],
   "source": [
    "cleandata.head()"
   ]
  },
  {
   "cell_type": "markdown",
   "id": "d587ebac",
   "metadata": {},
   "source": [
    "# a.\n",
    "#### הנושא שבחרנו הוא מחלות לב"
   ]
  },
  {
   "cell_type": "markdown",
   "id": "f07b2b88",
   "metadata": {},
   "source": [
    "# b.\n",
    "#### כל שורה בטבלת הנתונים שלנו מייצגת בן אדם ומספר נתונים עליו, כמו מדדים שונים, מין, גיל והאם יש לו מחלת לב או לא.\n",
    "#### מערך הנתונים הוא משנת 1988 ומורכב מ-4 מאגרי נתונים - קליבלנד,הונגריה,שוויץ ולונג ביץ'-וי.\n",
    "#### ישנם 14 פיצ'רים (מופיעים מטה),כאשר שדה היעד מתייחס לנוכחות מחלות לב אצל מטופל.\n",
    "#### הערך 0 - מייצג שאין מחלות לב.\n",
    "#### הערך 1- מייצג שיש מחלות לב"
   ]
  },
  {
   "cell_type": "markdown",
   "id": "6082db71",
   "metadata": {},
   "source": [
    "# c.\n",
    "#### רשימת פיצ'רים"
   ]
  },
  {
   "cell_type": "markdown",
   "id": "14c558d3",
   "metadata": {},
   "source": [
    "</ol>\n",
    "<li>age- גיל בשנים, משתנה נומרי </li>\n",
    "<li>sex- מגדר, משתנה קטגוריאלי</li>\n",
    "<li>cp-סוג כאב בחזה, משתנה קטגוריאלי</li>\n",
    "<li>trestbps-לחץ דם, משתנה נומרי</li>\n",
    "<li>chol-מד כולסטרול, משתנה נומרי</li>\n",
    "<li>fbs-רמת סוכר בדם הגדולה מ120, משתנה קטגוריאלי</li>\n",
    "<li>restecg-תוצאות אלקטרוקרדיוגרפיות במנוחה, משתנה קטגוריאלי</li>\n",
    "<li>thalach-קצב לב מקסימלי, משתנה נומרי</li>\n",
    "<li>exang-פעילות גופנית הגורמת \n",
    "לכאבים בחזה, משתנה נומרי</li>\n",
    "<li>oldpeak- ST depression induced by exercise relative\n",
    "to rest, משתנה נומרי </li>\n",
    "<li>slope-השיפוע של קטע השיא, משתנה קטגוריאלי</li>\n",
    "<li>ca -מספר כלי הדם העיקריים הצבועים בפלורוסופיה, משתנה נומרי</li>\n",
    "<li>thal -תָּלָסֶמְיָה (מחלת דם תורשתית), משתנה נומרי</li>\n",
    "<li>target -האם יש מחלת לב או לא , משתנה קטגרויאלי</li>\n",
    "</ol>\n",
    "\n"
   ]
  },
  {
   "cell_type": "code",
   "execution_count": 70,
   "id": "07b254c0",
   "metadata": {},
   "outputs": [
    {
     "data": {
      "text/html": [
       "<div>\n",
       "<style scoped>\n",
       "    .dataframe tbody tr th:only-of-type {\n",
       "        vertical-align: middle;\n",
       "    }\n",
       "\n",
       "    .dataframe tbody tr th {\n",
       "        vertical-align: top;\n",
       "    }\n",
       "\n",
       "    .dataframe thead th {\n",
       "        text-align: right;\n",
       "    }\n",
       "</style>\n",
       "<table border=\"1\" class=\"dataframe\">\n",
       "  <thead>\n",
       "    <tr style=\"text-align: right;\">\n",
       "      <th></th>\n",
       "      <th>count</th>\n",
       "      <th>mean</th>\n",
       "      <th>std</th>\n",
       "      <th>min</th>\n",
       "      <th>25%</th>\n",
       "      <th>50%</th>\n",
       "      <th>75%</th>\n",
       "      <th>max</th>\n",
       "    </tr>\n",
       "  </thead>\n",
       "  <tbody>\n",
       "    <tr>\n",
       "      <th>age</th>\n",
       "      <td>302.0</td>\n",
       "      <td>54.420530</td>\n",
       "      <td>9.047970</td>\n",
       "      <td>29.0</td>\n",
       "      <td>48.00</td>\n",
       "      <td>55.5</td>\n",
       "      <td>61.00</td>\n",
       "      <td>77.0</td>\n",
       "    </tr>\n",
       "    <tr>\n",
       "      <th>sex</th>\n",
       "      <td>302.0</td>\n",
       "      <td>0.682119</td>\n",
       "      <td>0.466426</td>\n",
       "      <td>0.0</td>\n",
       "      <td>0.00</td>\n",
       "      <td>1.0</td>\n",
       "      <td>1.00</td>\n",
       "      <td>1.0</td>\n",
       "    </tr>\n",
       "    <tr>\n",
       "      <th>cp</th>\n",
       "      <td>302.0</td>\n",
       "      <td>0.963576</td>\n",
       "      <td>1.032044</td>\n",
       "      <td>0.0</td>\n",
       "      <td>0.00</td>\n",
       "      <td>1.0</td>\n",
       "      <td>2.00</td>\n",
       "      <td>3.0</td>\n",
       "    </tr>\n",
       "    <tr>\n",
       "      <th>trestbps</th>\n",
       "      <td>302.0</td>\n",
       "      <td>131.602649</td>\n",
       "      <td>17.563394</td>\n",
       "      <td>94.0</td>\n",
       "      <td>120.00</td>\n",
       "      <td>130.0</td>\n",
       "      <td>140.00</td>\n",
       "      <td>200.0</td>\n",
       "    </tr>\n",
       "    <tr>\n",
       "      <th>chol</th>\n",
       "      <td>302.0</td>\n",
       "      <td>246.500000</td>\n",
       "      <td>51.753489</td>\n",
       "      <td>126.0</td>\n",
       "      <td>211.00</td>\n",
       "      <td>240.5</td>\n",
       "      <td>274.75</td>\n",
       "      <td>564.0</td>\n",
       "    </tr>\n",
       "    <tr>\n",
       "      <th>fbs</th>\n",
       "      <td>302.0</td>\n",
       "      <td>0.149007</td>\n",
       "      <td>0.356686</td>\n",
       "      <td>0.0</td>\n",
       "      <td>0.00</td>\n",
       "      <td>0.0</td>\n",
       "      <td>0.00</td>\n",
       "      <td>1.0</td>\n",
       "    </tr>\n",
       "    <tr>\n",
       "      <th>restecg</th>\n",
       "      <td>302.0</td>\n",
       "      <td>0.526490</td>\n",
       "      <td>0.526027</td>\n",
       "      <td>0.0</td>\n",
       "      <td>0.00</td>\n",
       "      <td>1.0</td>\n",
       "      <td>1.00</td>\n",
       "      <td>2.0</td>\n",
       "    </tr>\n",
       "    <tr>\n",
       "      <th>thalach</th>\n",
       "      <td>302.0</td>\n",
       "      <td>149.569536</td>\n",
       "      <td>22.903527</td>\n",
       "      <td>71.0</td>\n",
       "      <td>133.25</td>\n",
       "      <td>152.5</td>\n",
       "      <td>166.00</td>\n",
       "      <td>202.0</td>\n",
       "    </tr>\n",
       "    <tr>\n",
       "      <th>exang</th>\n",
       "      <td>302.0</td>\n",
       "      <td>0.327815</td>\n",
       "      <td>0.470196</td>\n",
       "      <td>0.0</td>\n",
       "      <td>0.00</td>\n",
       "      <td>0.0</td>\n",
       "      <td>1.00</td>\n",
       "      <td>1.0</td>\n",
       "    </tr>\n",
       "    <tr>\n",
       "      <th>oldpeak</th>\n",
       "      <td>302.0</td>\n",
       "      <td>1.043046</td>\n",
       "      <td>1.161452</td>\n",
       "      <td>0.0</td>\n",
       "      <td>0.00</td>\n",
       "      <td>0.8</td>\n",
       "      <td>1.60</td>\n",
       "      <td>6.2</td>\n",
       "    </tr>\n",
       "    <tr>\n",
       "      <th>slope</th>\n",
       "      <td>302.0</td>\n",
       "      <td>1.397351</td>\n",
       "      <td>0.616274</td>\n",
       "      <td>0.0</td>\n",
       "      <td>1.00</td>\n",
       "      <td>1.0</td>\n",
       "      <td>2.00</td>\n",
       "      <td>2.0</td>\n",
       "    </tr>\n",
       "    <tr>\n",
       "      <th>ca</th>\n",
       "      <td>302.0</td>\n",
       "      <td>0.718543</td>\n",
       "      <td>1.006748</td>\n",
       "      <td>0.0</td>\n",
       "      <td>0.00</td>\n",
       "      <td>0.0</td>\n",
       "      <td>1.00</td>\n",
       "      <td>4.0</td>\n",
       "    </tr>\n",
       "    <tr>\n",
       "      <th>thal</th>\n",
       "      <td>302.0</td>\n",
       "      <td>2.314570</td>\n",
       "      <td>0.613026</td>\n",
       "      <td>0.0</td>\n",
       "      <td>2.00</td>\n",
       "      <td>2.0</td>\n",
       "      <td>3.00</td>\n",
       "      <td>3.0</td>\n",
       "    </tr>\n",
       "    <tr>\n",
       "      <th>target</th>\n",
       "      <td>302.0</td>\n",
       "      <td>0.543046</td>\n",
       "      <td>0.498970</td>\n",
       "      <td>0.0</td>\n",
       "      <td>0.00</td>\n",
       "      <td>1.0</td>\n",
       "      <td>1.00</td>\n",
       "      <td>1.0</td>\n",
       "    </tr>\n",
       "  </tbody>\n",
       "</table>\n",
       "</div>"
      ],
      "text/plain": [
       "          count        mean        std    min     25%    50%     75%    max\n",
       "age       302.0   54.420530   9.047970   29.0   48.00   55.5   61.00   77.0\n",
       "sex       302.0    0.682119   0.466426    0.0    0.00    1.0    1.00    1.0\n",
       "cp        302.0    0.963576   1.032044    0.0    0.00    1.0    2.00    3.0\n",
       "trestbps  302.0  131.602649  17.563394   94.0  120.00  130.0  140.00  200.0\n",
       "chol      302.0  246.500000  51.753489  126.0  211.00  240.5  274.75  564.0\n",
       "fbs       302.0    0.149007   0.356686    0.0    0.00    0.0    0.00    1.0\n",
       "restecg   302.0    0.526490   0.526027    0.0    0.00    1.0    1.00    2.0\n",
       "thalach   302.0  149.569536  22.903527   71.0  133.25  152.5  166.00  202.0\n",
       "exang     302.0    0.327815   0.470196    0.0    0.00    0.0    1.00    1.0\n",
       "oldpeak   302.0    1.043046   1.161452    0.0    0.00    0.8    1.60    6.2\n",
       "slope     302.0    1.397351   0.616274    0.0    1.00    1.0    2.00    2.0\n",
       "ca        302.0    0.718543   1.006748    0.0    0.00    0.0    1.00    4.0\n",
       "thal      302.0    2.314570   0.613026    0.0    2.00    2.0    3.00    3.0\n",
       "target    302.0    0.543046   0.498970    0.0    0.00    1.0    1.00    1.0"
      ]
     },
     "execution_count": 70,
     "metadata": {},
     "output_type": "execute_result"
    }
   ],
   "source": [
    "cleandata.describe().T"
   ]
  },
  {
   "cell_type": "markdown",
   "id": "a90ea491",
   "metadata": {},
   "source": [
    "# d."
   ]
  },
  {
   "cell_type": "code",
   "execution_count": 71,
   "id": "5322582f",
   "metadata": {},
   "outputs": [
    {
     "name": "stdout",
     "output_type": "stream",
     "text": [
      "<class 'pandas.core.frame.DataFrame'>\n",
      "Int64Index: 302 entries, 0 to 878\n",
      "Data columns (total 14 columns):\n",
      " #   Column    Non-Null Count  Dtype  \n",
      "---  ------    --------------  -----  \n",
      " 0   age       302 non-null    int64  \n",
      " 1   sex       302 non-null    int64  \n",
      " 2   cp        302 non-null    int64  \n",
      " 3   trestbps  302 non-null    int64  \n",
      " 4   chol      302 non-null    int64  \n",
      " 5   fbs       302 non-null    int64  \n",
      " 6   restecg   302 non-null    int64  \n",
      " 7   thalach   302 non-null    int64  \n",
      " 8   exang     302 non-null    int64  \n",
      " 9   oldpeak   302 non-null    float64\n",
      " 10  slope     302 non-null    int64  \n",
      " 11  ca        302 non-null    int64  \n",
      " 12  thal      302 non-null    int64  \n",
      " 13  target    302 non-null    int64  \n",
      "dtypes: float64(1), int64(13)\n",
      "memory usage: 35.4 KB\n"
     ]
    }
   ],
   "source": [
    "cleandata.info()"
   ]
  },
  {
   "cell_type": "markdown",
   "id": "13e478bf",
   "metadata": {},
   "source": [
    "#  2.Exploratory data analysis"
   ]
  },
  {
   "cell_type": "markdown",
   "id": "887c9cd6",
   "metadata": {},
   "source": [
    "# a."
   ]
  },
  {
   "cell_type": "markdown",
   "id": "9b2a1b4b",
   "metadata": {},
   "source": [
    "### המשתנה הראשון שנבדוק הוא לכמה מהנבדקים יש בעיות בלב ולכמה מהנבדקים אין בעיות בלב.\n",
    "#### נזכיר כי 0 מייצג שאין מחלה לבבית ,והספרה 1 מייצגת שיש מחלה לבבית.\n"
   ]
  },
  {
   "cell_type": "code",
   "execution_count": 72,
   "id": "913df5bf",
   "metadata": {},
   "outputs": [
    {
     "data": {
      "text/plain": [
       "1    164\n",
       "0    138\n",
       "Name: target, dtype: int64"
      ]
     },
     "execution_count": 72,
     "metadata": {},
     "output_type": "execute_result"
    }
   ],
   "source": [
    "val_off_tar = cleandata.target.value_counts()\n",
    "val_off_tar"
   ]
  },
  {
   "cell_type": "markdown",
   "id": "3180a2d9",
   "metadata": {},
   "source": [
    "#### : נציג את ההשוואה בגרף עמודות"
   ]
  },
  {
   "cell_type": "code",
   "execution_count": 73,
   "id": "bdd4abad",
   "metadata": {
    "scrolled": true
   },
   "outputs": [
    {
     "data": {
      "text/plain": [
       "[Text(0, 0, 'Has heart disease'), Text(1, 0, \"Doesn't have heart disease\")]"
      ]
     },
     "execution_count": 73,
     "metadata": {},
     "output_type": "execute_result"
    },
    {
     "data": {
      "image/png": "[encoded data removed]",
      "text/plain": [
       "<Figure size 432x288 with 1 Axes>"
      ]
     },
     "metadata": {
      "needs_background": "light"
     },
     "output_type": "display_data"
    }
   ],
   "source": [
    "tar_bar =  cleandata.target.value_counts().plot(kind = \"bar\" ,color = [\"red\",\"blue\"])\n",
    "plt.title(\"Heart Disease values\")\n",
    "plt.ylabel(\"Amount\")\n",
    "tar_bar.set_xticklabels(labels=['Has heart disease', \"Doesn't have heart disease\"], rotation=0)"
   ]
  },
  {
   "cell_type": "markdown",
   "id": "c71b4b1c",
   "metadata": {},
   "source": [
    "### המשתנה השני שנבדוק הוא כמה נשים וגברים יש בנתונים שקיבלנו\n",
    "\n",
    "#### נזכיר כי 0 מייצג נקבה ו-1 מייצג זכר"
   ]
  },
  {
   "cell_type": "code",
   "execution_count": 74,
   "id": "89f45b1c",
   "metadata": {},
   "outputs": [
    {
     "data": {
      "text/plain": [
       "1    206\n",
       "0     96\n",
       "Name: sex, dtype: int64"
      ]
     },
     "execution_count": 74,
     "metadata": {},
     "output_type": "execute_result"
    }
   ],
   "source": [
    "val_off_sex = cleandata.sex.value_counts()\n",
    "val_off_sex"
   ]
  },
  {
   "cell_type": "code",
   "execution_count": 75,
   "id": "ec894b29",
   "metadata": {},
   "outputs": [
    {
     "data": {
      "image/png": "[encoded data removed]",
      "text/plain": [
       "<Figure size 432x288 with 1 Axes>"
      ]
     },
     "metadata": {},
     "output_type": "display_data"
    }
   ],
   "source": [
    "labels = 'Male', 'Female'\n",
    "explode = (0, 0)\n",
    "fig1, ax1 = plt.subplots()\n",
    "ax1.pie(cleandata.sex.value_counts(), explode=explode, labels=labels, autopct='%1.1f%%',\n",
    "        shadow=True, startangle=90)\n",
    "plt.title(\"men vs female\")\n",
    "ax1.axis('equal')\n",
    "plt.show()"
   ]
  },
  {
   "cell_type": "markdown",
   "id": "c70ae787",
   "metadata": {},
   "source": [
    "##### ניתן לראות כי אחוז הגברים הוא כמעט פי 2 מאחוז הנשים המופיעים במאגר הנתונים שלנו."
   ]
  },
  {
   "cell_type": "markdown",
   "id": "e25e8bac",
   "metadata": {},
   "source": [
    "### המשתנה השלישי שנבדוק הוא את סוגי הכאבים בחזה\n",
    "#### נזכיר שהוא ממוספר מ 0-3"
   ]
  },
  {
   "cell_type": "code",
   "execution_count": 76,
   "id": "ee152721",
   "metadata": {},
   "outputs": [
    {
     "data": {
      "text/plain": [
       "0    143\n",
       "2     86\n",
       "1     50\n",
       "3     23\n",
       "Name: cp, dtype: int64"
      ]
     },
     "execution_count": 76,
     "metadata": {},
     "output_type": "execute_result"
    }
   ],
   "source": [
    "val_cp = cleandata.cp.value_counts()\n",
    "val_cp"
   ]
  },
  {
   "cell_type": "code",
   "execution_count": 77,
   "id": "5448d8cd",
   "metadata": {},
   "outputs": [
    {
     "data": {
      "text/plain": [
       "[Text(0, 0, 'pain type 0'),\n",
       " Text(1, 0, 'pain type 1'),\n",
       " Text(2, 0, 'pain type 2'),\n",
       " Text(3, 0, 'pain type 3')]"
      ]
     },
     "execution_count": 77,
     "metadata": {},
     "output_type": "execute_result"
    },
    {
     "data": {
      "image/png": "[encoded data removed]",
      "text/plain": [
       "<Figure size 432x288 with 1 Axes>"
      ]
     },
     "metadata": {
      "needs_background": "light"
     },
     "output_type": "display_data"
    }
   ],
   "source": [
    "cp_bar = cleandata.cp.value_counts().plot(kind = \"bar\" ,color = ['salmon', 'lightskyblue', 'springgreen', 'khaki'])\n",
    "plt.title(\"chest pain type\")\n",
    "plt.ylabel(\"Amount\")\n",
    "cp_bar.set_xticklabels(labels=['pain type 0', 'pain type 1', 'pain type 2', 'pain type 3'], rotation=0)"
   ]
  },
  {
   "cell_type": "markdown",
   "id": "94e5b72e",
   "metadata": {},
   "source": [
    "##### ניתן לראות על פי הגרף כי הכאב השכיח ביותר הוא סוג מספר 0 ,וסוג הכאב הנדיר הוא סוג מספר 3."
   ]
  },
  {
   "cell_type": "markdown",
   "id": "11a57861",
   "metadata": {},
   "source": [
    "### המשתנה הרביעי שנבדוק אלקטרוקארדיוגרף במנוחה - Electrocardiography\n",
    "#### נזכיר שהוא ממוספר מ 0-2\n"
   ]
  },
  {
   "cell_type": "code",
   "execution_count": 78,
   "id": "94de65c9",
   "metadata": {},
   "outputs": [
    {
     "data": {
      "text/plain": [
       "1    151\n",
       "0    147\n",
       "2      4\n",
       "Name: restecg, dtype: int64"
      ]
     },
     "execution_count": 78,
     "metadata": {},
     "output_type": "execute_result"
    }
   ],
   "source": [
    "val_restecg = cleandata.restecg.value_counts()\n",
    "val_restecg"
   ]
  },
  {
   "cell_type": "code",
   "execution_count": 79,
   "id": "58c97365",
   "metadata": {},
   "outputs": [
    {
     "data": {
      "text/plain": [
       "[Text(0, 0, 'type 1'), Text(1, 0, 'type 0'), Text(2, 0, 'type 2')]"
      ]
     },
     "execution_count": 79,
     "metadata": {},
     "output_type": "execute_result"
    },
    {
     "data": {
      "image/png": "[encoded data removed]",
      "text/plain": [
       "<Figure size 432x288 with 1 Axes>"
      ]
     },
     "metadata": {
      "needs_background": "light"
     },
     "output_type": "display_data"
    }
   ],
   "source": [
    "restecg_bar = cleandata.restecg.value_counts().plot(kind = \"bar\" ,color = ['blue', 'red', 'black'])\n",
    "plt.title(\"resting electrocardiographic\")\n",
    "plt.ylabel(\"Amount\")\n",
    "restecg_bar.set_xticklabels(labels=['type 1', 'type 0', 'type 2'], rotation=0)"
   ]
  },
  {
   "cell_type": "markdown",
   "id": "d7f49ee8",
   "metadata": {},
   "source": [
    "##### נסיק כי סוג 2 לא שכיח בהשוואה לסוג 0 ו- 1."
   ]
  },
  {
   "cell_type": "markdown",
   "id": "6fbf06f8",
   "metadata": {},
   "source": [
    "### המשתנה החמישי שנבדוק הוא הגיל"
   ]
  },
  {
   "cell_type": "code",
   "execution_count": 80,
   "id": "f0e35552",
   "metadata": {},
   "outputs": [
    {
     "data": {
      "image/png": "[encoded data removed]",
      "text/plain": [
       "<Figure size 360x360 with 1 Axes>"
      ]
     },
     "metadata": {
      "needs_background": "light"
     },
     "output_type": "display_data"
    }
   ],
   "source": [
    "sns.displot( x = 'age', data = cleandata, bins = 30)\n",
    "plt.title(\"age in years\")\n",
    "plt.show();"
   ]
  },
  {
   "cell_type": "markdown",
   "id": "7c1ae7d1",
   "metadata": {},
   "source": [
    "##### נשים לב כי רוב הנתונים במאגר הם על אנשים בגילאי 50-65"
   ]
  },
  {
   "cell_type": "markdown",
   "id": "02a5c808",
   "metadata": {},
   "source": [
    "### המשתנה השישי שנבדוק הוא מספר כלי הדם הראשיים שנצבעו בפלורוסופ\n",
    "#### נזכיר כי הוא ממוספר מ 0-4"
   ]
  },
  {
   "cell_type": "code",
   "execution_count": 81,
   "id": "c17979fd",
   "metadata": {},
   "outputs": [
    {
     "data": {
      "text/plain": [
       "[Text(0, 0, 'zero vessels'),\n",
       " Text(1, 0, 'one vessel'),\n",
       " Text(2, 0, 'two vessel'),\n",
       " Text(3, 0, 'three vessels'),\n",
       " Text(4, 0, 'four vessels')]"
      ]
     },
     "execution_count": 81,
     "metadata": {},
     "output_type": "execute_result"
    },
    {
     "data": {
      "image/png": "[encoded data removed]",
      "text/plain": [
       "<Figure size 432x288 with 1 Axes>"
      ]
     },
     "metadata": {
      "needs_background": "light"
     },
     "output_type": "display_data"
    }
   ],
   "source": [
    "ca_bar = cleandata.ca.value_counts().plot(kind = \"bar\" ,color = ['red', 'black', 'blue', 'salmon','green'])\n",
    "plt.title(\"number of major vessels colored by flourosopy\")\n",
    "plt.ylabel(\"Amount\")\n",
    "ca_bar.set_xticklabels(labels=['zero vessels', 'one vessel', 'two vessel', 'three vessels','four vessels'], rotation=0)"
   ]
  },
  {
   "cell_type": "markdown",
   "id": "d99d3800",
   "metadata": {},
   "source": [
    "# b."
   ]
  },
  {
   "cell_type": "markdown",
   "id": "711e4292",
   "metadata": {},
   "source": [
    "##### קטע הקוד הבא מראה את מקדם הקורלציה בין 2 משתנים בעזרת גרף מטריצה .\n",
    "##### מקדם הקורלציה ששווה ל1 בגרף שלנו נוצר כי הקורלציה של משתנה מסויים עם עצמו היא 1 כמובן.\n",
    "##### ניתן לראות כי מקדם הקורלציה החזק ביותר ( בין 2 משתנים שונים ) הוא שלילי וערכו המוחלט 0.58 בין המשתנים:\n",
    "##### oldpeak & slope\n",
    "##### ניתן לראות כי מקדם הקורלציה הנחלש ביותר הוא שלילי גם כן וערכו המוחלט 0.0089 בין המשתנים:\n",
    "##### fbs & thalach"
   ]
  },
  {
   "cell_type": "code",
   "execution_count": 82,
   "id": "e3441834",
   "metadata": {},
   "outputs": [
    {
     "data": {
      "image/png": "[encoded data removed]",
      "text/plain": [
       "<Figure size 864x864 with 2 Axes>"
      ]
     },
     "metadata": {
      "needs_background": "light"
     },
     "output_type": "display_data"
    }
   ],
   "source": [
    "# compute correlation between each pair of variables in data frame\n",
    "correlations = df.corr()\n",
    "#plot heat map\n",
    "plt.figure(figsize=(12,12))\n",
    "g=sns.heatmap(correlations,annot=True,cmap=\"RdYlGn\")"
   ]
  },
  {
   "cell_type": "markdown",
   "id": "50f59f4f",
   "metadata": {},
   "source": [
    "### נבחן איזה מבני המינים סובל יותר מבעיות בלב\n",
    "#### 2 pairs of variables - sex and target "
   ]
  },
  {
   "cell_type": "code",
   "execution_count": 83,
   "id": "1b3a07f3",
   "metadata": {},
   "outputs": [
    {
     "data": {
      "text/html": [
       "<div>\n",
       "<style scoped>\n",
       "    .dataframe tbody tr th:only-of-type {\n",
       "        vertical-align: middle;\n",
       "    }\n",
       "\n",
       "    .dataframe tbody tr th {\n",
       "        vertical-align: top;\n",
       "    }\n",
       "\n",
       "    .dataframe thead th {\n",
       "        text-align: right;\n",
       "    }\n",
       "</style>\n",
       "<table border=\"1\" class=\"dataframe\">\n",
       "  <thead>\n",
       "    <tr style=\"text-align: right;\">\n",
       "      <th>target</th>\n",
       "      <th>0</th>\n",
       "      <th>1</th>\n",
       "    </tr>\n",
       "    <tr>\n",
       "      <th>sex</th>\n",
       "      <th></th>\n",
       "      <th></th>\n",
       "    </tr>\n",
       "  </thead>\n",
       "  <tbody>\n",
       "    <tr>\n",
       "      <th>0</th>\n",
       "      <td>24</td>\n",
       "      <td>72</td>\n",
       "    </tr>\n",
       "    <tr>\n",
       "      <th>1</th>\n",
       "      <td>114</td>\n",
       "      <td>92</td>\n",
       "    </tr>\n",
       "  </tbody>\n",
       "</table>\n",
       "</div>"
      ],
      "text/plain": [
       "target    0   1\n",
       "sex            \n",
       "0        24  72\n",
       "1       114  92"
      ]
     },
     "execution_count": 83,
     "metadata": {},
     "output_type": "execute_result"
    }
   ],
   "source": [
    "pd.crosstab(cleandata.sex, cleandata.target)"
   ]
  },
  {
   "cell_type": "code",
   "execution_count": 84,
   "id": "6a390b3b",
   "metadata": {
    "scrolled": false
   },
   "outputs": [
    {
     "data": {
      "image/png": "[encoded data removed]",
      "text/plain": [
       "<Figure size 432x288 with 1 Axes>"
      ]
     },
     "metadata": {
      "needs_background": "light"
     },
     "output_type": "display_data"
    }
   ],
   "source": [
    "heart_health=[]\n",
    "for k in cleandata['target']:\n",
    "    if k == 0:\n",
    "        heart_health.append('Healthy Heart')\n",
    "    elif k == 1:\n",
    "        heart_health.append('Heart Disease')\n",
    "        \n",
    "ax = sns.countplot(x='sex',hue=heart_health,data=cleandata, palette='mako_r')\n",
    "\n",
    "plt.title(\"Heart-Health Vs Gender\")    \n",
    "plt.ylabel(\"\")\n",
    "plt.yticks([])\n",
    "plt.xlabel(\"\")\n",
    "\n",
    "for p in ax.patches:\n",
    "    ax.annotate(p.get_height(), (p.get_x()+0.15, p.get_height()+1))\n",
    "ax.set_xticklabels(['Female','Male']);   "
   ]
  },
  {
   "cell_type": "markdown",
   "id": "ef8e2f1d",
   "metadata": {},
   "source": [
    "#### בסעיף הקודם ראינו שמספר הרשומות של גברים גדול פי 2 משל הנשים. עם זאת, אנחנו גם רואים שמספר החולים בשתי המינים יחסית דומה -סוגייה שקשה להסביר בהינתן סט הנתונים הנל\n",
    "#### לדענו אין קורלציה בין השניים."
   ]
  },
  {
   "cell_type": "markdown",
   "id": "bb146e32",
   "metadata": {},
   "source": [
    "### נבחן מה הקשר בין רמות כאב למחלות לב"
   ]
  },
  {
   "cell_type": "markdown",
   "id": "c0d0016d",
   "metadata": {},
   "source": [
    "#### 2 pairs of variables - cp and target "
   ]
  },
  {
   "cell_type": "code",
   "execution_count": 85,
   "id": "d887540c",
   "metadata": {},
   "outputs": [
    {
     "data": {
      "text/html": [
       "<div>\n",
       "<style scoped>\n",
       "    .dataframe tbody tr th:only-of-type {\n",
       "        vertical-align: middle;\n",
       "    }\n",
       "\n",
       "    .dataframe tbody tr th {\n",
       "        vertical-align: top;\n",
       "    }\n",
       "\n",
       "    .dataframe thead th {\n",
       "        text-align: right;\n",
       "    }\n",
       "</style>\n",
       "<table border=\"1\" class=\"dataframe\">\n",
       "  <thead>\n",
       "    <tr style=\"text-align: right;\">\n",
       "      <th>target</th>\n",
       "      <th>0</th>\n",
       "      <th>1</th>\n",
       "    </tr>\n",
       "    <tr>\n",
       "      <th>cp</th>\n",
       "      <th></th>\n",
       "      <th></th>\n",
       "    </tr>\n",
       "  </thead>\n",
       "  <tbody>\n",
       "    <tr>\n",
       "      <th>0</th>\n",
       "      <td>104</td>\n",
       "      <td>39</td>\n",
       "    </tr>\n",
       "    <tr>\n",
       "      <th>1</th>\n",
       "      <td>9</td>\n",
       "      <td>41</td>\n",
       "    </tr>\n",
       "    <tr>\n",
       "      <th>2</th>\n",
       "      <td>18</td>\n",
       "      <td>68</td>\n",
       "    </tr>\n",
       "    <tr>\n",
       "      <th>3</th>\n",
       "      <td>7</td>\n",
       "      <td>16</td>\n",
       "    </tr>\n",
       "  </tbody>\n",
       "</table>\n",
       "</div>"
      ],
      "text/plain": [
       "target    0   1\n",
       "cp             \n",
       "0       104  39\n",
       "1         9  41\n",
       "2        18  68\n",
       "3         7  16"
      ]
     },
     "execution_count": 85,
     "metadata": {},
     "output_type": "execute_result"
    }
   ],
   "source": [
    "pd.crosstab(cleandata.cp, cleandata.target)"
   ]
  },
  {
   "cell_type": "code",
   "execution_count": 86,
   "id": "d6b83835",
   "metadata": {},
   "outputs": [
    {
     "data": {
      "image/png": "[encoded data removed]",
      "text/plain": [
       "<Figure size 432x288 with 1 Axes>"
      ]
     },
     "metadata": {
      "needs_background": "light"
     },
     "output_type": "display_data"
    }
   ],
   "source": [
    "fig_2 = sns.countplot(x = 'cp', data = cleandata, hue = 'target')\n",
    "fig_2.set_xticklabels(labels=['pain type 0', 'pain type 1', 'pain type 2', 'pain type 3'], rotation=0)\n",
    "plt.title(\"chest pain type Vs Heart disease\")    \n",
    "plt.legend(['No Heart disease', 'Heart disease']);"
   ]
  },
  {
   "cell_type": "markdown",
   "id": "2b6d2c3b",
   "metadata": {},
   "source": [
    "##### אנחנו רואים שתחת סוגי הכאב 1-3 יש סבירות גדולה יותר שמדובר במחלת לב המלווה בכאב מאשר תחת סוג כאב 0 ,דבר שהוא הגיוני כי סוג כאב 0 יכול להיות כאב  שמתפרש אולי ככאב בחזה אך יכול להיות שמדובר בכלל בהתקף חרדה או מאמץ יתר מפעילות גופנית וכו... ולכן לא בהכרח תהיה אינדיקציה למחלה לבבית\n",
    "##### יש קורלציה חיובית בין 2 המשתנים (לפי הגרף יש קורלציה של 0.43)"
   ]
  },
  {
   "cell_type": "markdown",
   "id": "140886f0",
   "metadata": {},
   "source": [
    "### נבחן את הקשר בין כמות כלי הדם הראשיים שנצבעים למחלות לב"
   ]
  },
  {
   "cell_type": "markdown",
   "id": "92e7d5d9",
   "metadata": {},
   "source": [
    "#### 2 pairs of variables - ca and target "
   ]
  },
  {
   "cell_type": "code",
   "execution_count": 87,
   "id": "30a24497",
   "metadata": {},
   "outputs": [
    {
     "data": {
      "image/png": "[encoded data removed]",
      "text/plain": [
       "<Figure size 432x288 with 1 Axes>"
      ]
     },
     "metadata": {
      "needs_background": "light"
     },
     "output_type": "display_data"
    }
   ],
   "source": [
    "fig_3 = sns.countplot(x = 'ca', data = df, hue = 'target')\n",
    "fig_3.set_xticklabels(labels=['zero vessels', 'one vessel', 'two vessel', 'three vessels','four vessels'], rotation=0)\n",
    "plt.title(\"number of major vessels (0-3) colored by flourosopy Vs Heart disease\")    \n",
    "plt.legend(['No Heart disease', 'Heart disease']);"
   ]
  },
  {
   "cell_type": "markdown",
   "id": "40d07218",
   "metadata": {},
   "source": [
    "#### ניתן לשים לב שכאשר מספר כלי הדם הוא 0, יש סבירות גבוה שיש מחלת לב. יש קורלציה בין המשתנים"
   ]
  },
  {
   "cell_type": "markdown",
   "id": "0a8bb039",
   "metadata": {},
   "source": [
    "# 3. Estimation and hypothesis testing"
   ]
  },
  {
   "cell_type": "markdown",
   "id": "4cb6c910",
   "metadata": {},
   "source": [
    "# a"
   ]
  },
  {
   "cell_type": "markdown",
   "id": "139a9205",
   "metadata": {},
   "source": [
    "השאלה שבחרנו לחקור היא האם חולי לב נוטים לסבול מרמת כולסטרול גבוהה יותר מאשר אנשים בריאים. בחרנו דווקא בשאלה זו כי שמנו לב שלנבדקים עם מחלות לב יש כולסטרול נמוך יותר מאנשים ללא מחלות לב."
   ]
  },
  {
   "cell_type": "markdown",
   "id": "f49614ec",
   "metadata": {},
   "source": [
    "# b"
   ]
  },
  {
   "cell_type": "markdown",
   "id": "61fb93b2",
   "metadata": {},
   "source": [
    "השערת האפס - אין הבדל בין רמת כולסטרול ממוצעת אצל חולי לב לבין רמת כולסטרול ממוצעת אצל אנשים ללא מחלות לב.\n"
   ]
  },
  {
   "cell_type": "markdown",
   "id": "04a8b687",
   "metadata": {},
   "source": [
    "השערה אלטרניטיבית - רמת הכולסטרול הממוצעת אצל אדם חולה לב היא נמוכה יותר מאשר אצל אדם בריא "
   ]
  },
  {
   "cell_type": "markdown",
   "id": "d58ff65b",
   "metadata": {},
   "source": [
    "# c"
   ]
  },
  {
   "cell_type": "code",
   "execution_count": 88,
   "id": "c8755ea5",
   "metadata": {},
   "outputs": [
    {
     "data": {
      "text/plain": [
       "(302, 14)"
      ]
     },
     "execution_count": 88,
     "metadata": {},
     "output_type": "execute_result"
    }
   ],
   "source": [
    "cleandf = cleandata.dropna(axis=0, how='any', thresh=None, subset=None, inplace=False) #chek if there is missing data, and clean it.\n",
    "cleandf.shape"
   ]
  },
  {
   "cell_type": "markdown",
   "id": "300fbcd1",
   "metadata": {},
   "source": [
    "לא נמחקו שורות או עמודות, כלומר לא היה מידע חסר ולכן אפשר להמשיך לעבוד עם הדאטה הרגיל"
   ]
  },
  {
   "cell_type": "code",
   "execution_count": 89,
   "id": "1e0e786f",
   "metadata": {},
   "outputs": [
    {
     "data": {
      "text/plain": [
       "target\n",
       "0    251.086957\n",
       "1    242.640244\n",
       "Name: chol, dtype: float64"
      ]
     },
     "execution_count": 89,
     "metadata": {},
     "output_type": "execute_result"
    }
   ],
   "source": [
    "cleandata.groupby('target')['chol'].mean()"
   ]
  },
  {
   "cell_type": "code",
   "execution_count": 90,
   "id": "9bff663c",
   "metadata": {},
   "outputs": [],
   "source": [
    "def diff_of_avgs(df, column_name, groupby_var):\n",
    "    grpby_var = df.groupby(groupby_var)\n",
    "    avgs = grpby_var[column_name].mean()\n",
    "    return avgs[1] - avgs[0]  # avgs is a Series object\n",
    "\n",
    "def bootstrap_mean_difference(original_sample, column_name, grouping_var, num_replications):\n",
    "    '''This function returns an array of bootstrapped differences between two sample averages:\n",
    "      original_sample: df containing the original sample\n",
    "      column_name: name of column containing the variable to average\n",
    "      grouping_var: name of variable according to which to group\n",
    "      num_replications: number of bootstrap samples'''\n",
    "    original_sample_size = original_sample.shape[0] # we need to replicate with the same sample size\n",
    "    original_sample_cols_of_interest = original_sample[[column_name, grouping_var]]\n",
    "    bstrap_mean_diffs = np.empty(num_replications)\n",
    "    for i in range(num_replications):\n",
    "        bootstrap_sample = original_sample_cols_of_interest.sample(original_sample_size, replace=True) # note WITH REPLACEMENT!\n",
    "        resampled_mean_diff = diff_of_avgs(bootstrap_sample, column_name, grouping_var)\n",
    "        bstrap_mean_diffs[i] = resampled_mean_diff\n",
    "    \n",
    "    return bstrap_mean_diffs"
   ]
  },
  {
   "cell_type": "code",
   "execution_count": 101,
   "id": "6b7cd62b",
   "metadata": {},
   "outputs": [],
   "source": [
    "chol_diffs_clean = bootstrap_mean_difference(cleandata, 'chol', 'target',  10000)"
   ]
  },
  {
   "cell_type": "code",
   "execution_count": 102,
   "id": "2caf44c9",
   "metadata": {},
   "outputs": [
    {
     "name": "stdout",
     "output_type": "stream",
     "text": [
      "lower value:  -19.856709861629696\n",
      "upper value:  3.2569491525423757\n"
     ]
    },
    {
     "data": {
      "image/png": "[encoded data removed]",
      "text/plain": [
       "<Figure size 360x360 with 1 Axes>"
      ]
     },
     "metadata": {
      "needs_background": "light"
     },
     "output_type": "display_data"
    }
   ],
   "source": [
    "left_end = np.percentile(chol_diffs_clean, 2.5, interpolation='higher')\n",
    "right_end = np.percentile(chol_diffs_clean, 97.5, interpolation='higher')\n",
    "print('lower value: ', left_end)\n",
    "print('upper value: ', right_end)\n",
    "\n",
    "# visualize results\n",
    "facetgrid_obj = sns.displot(chol_diffs_clean);\n",
    "plt.title('Empirical distribution ')\n",
    "facetgrid_obj.axes[0, 0].hlines(y=0, xmin=left_end, xmax=right_end, colors='orange', linestyles='solid', lw=5);"
   ]
  },
  {
   "cell_type": "markdown",
   "id": "690324b3",
   "metadata": {},
   "source": [
    "### נבחין כי 0 לא נמצא ברווח סמך שלנו, לכן ניתן לדחות את השערת האפס"
   ]
  },
  {
   "cell_type": "markdown",
   "id": "038d39d6",
   "metadata": {},
   "source": [
    "# 4. Prediction or Clustering"
   ]
  },
  {
   "cell_type": "markdown",
   "id": "aca21c74",
   "metadata": {},
   "source": [
    "# a\n",
    "#### בחרנו לנסות לסווג את הנתונים שלנו לפי חולי לב או אנשים בריאים משום שלדעתנו יש לנושא הזה משקל רב בשיפור תוחלת החיים של בני אדם. לאלגוריתם זה יכול להיות פוטנציאל לבדיקת קיומן של מחלות לב אצל נבדקים על סמך מדדי הבדיקות שלהם ולמשל לשמש בתי חולים ומכונים כשלב מקדים באבחון מחלת לב  וטיפולה."
   ]
  },
  {
   "cell_type": "markdown",
   "id": "742ddb59",
   "metadata": {},
   "source": [
    "# b"
   ]
  },
  {
   "cell_type": "code",
   "execution_count": 99,
   "id": "5deb36b6",
   "metadata": {},
   "outputs": [
    {
     "data": {
      "image/png": "[encoded data removed]",
      "text/plain": [
       "<Figure size 864x864 with 2 Axes>"
      ]
     },
     "metadata": {
      "needs_background": "light"
     },
     "output_type": "display_data"
    }
   ],
   "source": [
    "# compute correlation between each pair of variables in data frame\n",
    "correlations = cleandata.corr()\n",
    "#plot heat map\n",
    "plt.figure(figsize=(12,12))\n",
    "plt.title('Correlation matrix')\n",
    "g=sns.heatmap(correlations,annot=True,cmap=\"RdYlGn\")"
   ]
  },
  {
   "cell_type": "markdown",
   "id": "4f69910f",
   "metadata": {},
   "source": [
    " \n",
    "#### target variable -  target (האם יש מחלת לב או לא)\n",
    "#### predict variables - כולם חוץ מרמת סוכר בדם מעל ל120 ומדד כולסטרול. בחרנו במדדים שהקורלציה שלהם עם משתנה המטרה היא הגבוה ביותר והשמטנו את אלו שנראה שאין להם השפעה."
   ]
  },
  {
   "cell_type": "markdown",
   "id": "eda20c98",
   "metadata": {},
   "source": [
    "# C "
   ]
  },
  {
   "cell_type": "markdown",
   "id": "1cd743a1",
   "metadata": {},
   "source": [
    "#### מאחר וכל הנתונים שלנו הם מספריים, בדקנו שאין לנו נתונים חסרים והורדנו את הכפילויות, ניתן להתחיל עם הסיווג"
   ]
  },
  {
   "cell_type": "code",
   "execution_count": 94,
   "id": "fcb292a0",
   "metadata": {},
   "outputs": [
    {
     "data": {
      "text/html": [
       "<div>\n",
       "<style scoped>\n",
       "    .dataframe tbody tr th:only-of-type {\n",
       "        vertical-align: middle;\n",
       "    }\n",
       "\n",
       "    .dataframe tbody tr th {\n",
       "        vertical-align: top;\n",
       "    }\n",
       "\n",
       "    .dataframe thead th {\n",
       "        text-align: right;\n",
       "    }\n",
       "</style>\n",
       "<table border=\"1\" class=\"dataframe\">\n",
       "  <thead>\n",
       "    <tr style=\"text-align: right;\">\n",
       "      <th></th>\n",
       "      <th>thal</th>\n",
       "      <th>ca</th>\n",
       "      <th>slope</th>\n",
       "      <th>oldpeak</th>\n",
       "      <th>exang</th>\n",
       "      <th>thalach</th>\n",
       "      <th>restecg</th>\n",
       "      <th>trestbps</th>\n",
       "      <th>cp</th>\n",
       "      <th>sex</th>\n",
       "      <th>age</th>\n",
       "      <th>target</th>\n",
       "    </tr>\n",
       "  </thead>\n",
       "  <tbody>\n",
       "    <tr>\n",
       "      <th>0</th>\n",
       "      <td>3</td>\n",
       "      <td>2</td>\n",
       "      <td>2</td>\n",
       "      <td>1.0</td>\n",
       "      <td>0</td>\n",
       "      <td>168</td>\n",
       "      <td>1</td>\n",
       "      <td>125</td>\n",
       "      <td>0</td>\n",
       "      <td>1</td>\n",
       "      <td>52</td>\n",
       "      <td>0</td>\n",
       "    </tr>\n",
       "    <tr>\n",
       "      <th>1</th>\n",
       "      <td>3</td>\n",
       "      <td>0</td>\n",
       "      <td>0</td>\n",
       "      <td>3.1</td>\n",
       "      <td>1</td>\n",
       "      <td>155</td>\n",
       "      <td>0</td>\n",
       "      <td>140</td>\n",
       "      <td>0</td>\n",
       "      <td>1</td>\n",
       "      <td>53</td>\n",
       "      <td>0</td>\n",
       "    </tr>\n",
       "    <tr>\n",
       "      <th>2</th>\n",
       "      <td>3</td>\n",
       "      <td>0</td>\n",
       "      <td>0</td>\n",
       "      <td>2.6</td>\n",
       "      <td>1</td>\n",
       "      <td>125</td>\n",
       "      <td>1</td>\n",
       "      <td>145</td>\n",
       "      <td>0</td>\n",
       "      <td>1</td>\n",
       "      <td>70</td>\n",
       "      <td>0</td>\n",
       "    </tr>\n",
       "    <tr>\n",
       "      <th>3</th>\n",
       "      <td>3</td>\n",
       "      <td>1</td>\n",
       "      <td>2</td>\n",
       "      <td>0.0</td>\n",
       "      <td>0</td>\n",
       "      <td>161</td>\n",
       "      <td>1</td>\n",
       "      <td>148</td>\n",
       "      <td>0</td>\n",
       "      <td>1</td>\n",
       "      <td>61</td>\n",
       "      <td>0</td>\n",
       "    </tr>\n",
       "    <tr>\n",
       "      <th>4</th>\n",
       "      <td>2</td>\n",
       "      <td>3</td>\n",
       "      <td>1</td>\n",
       "      <td>1.9</td>\n",
       "      <td>0</td>\n",
       "      <td>106</td>\n",
       "      <td>1</td>\n",
       "      <td>138</td>\n",
       "      <td>0</td>\n",
       "      <td>0</td>\n",
       "      <td>62</td>\n",
       "      <td>0</td>\n",
       "    </tr>\n",
       "    <tr>\n",
       "      <th>...</th>\n",
       "      <td>...</td>\n",
       "      <td>...</td>\n",
       "      <td>...</td>\n",
       "      <td>...</td>\n",
       "      <td>...</td>\n",
       "      <td>...</td>\n",
       "      <td>...</td>\n",
       "      <td>...</td>\n",
       "      <td>...</td>\n",
       "      <td>...</td>\n",
       "      <td>...</td>\n",
       "      <td>...</td>\n",
       "    </tr>\n",
       "    <tr>\n",
       "      <th>723</th>\n",
       "      <td>2</td>\n",
       "      <td>0</td>\n",
       "      <td>1</td>\n",
       "      <td>1.5</td>\n",
       "      <td>0</td>\n",
       "      <td>115</td>\n",
       "      <td>0</td>\n",
       "      <td>120</td>\n",
       "      <td>2</td>\n",
       "      <td>0</td>\n",
       "      <td>68</td>\n",
       "      <td>1</td>\n",
       "    </tr>\n",
       "    <tr>\n",
       "      <th>733</th>\n",
       "      <td>2</td>\n",
       "      <td>0</td>\n",
       "      <td>1</td>\n",
       "      <td>0.6</td>\n",
       "      <td>0</td>\n",
       "      <td>175</td>\n",
       "      <td>1</td>\n",
       "      <td>108</td>\n",
       "      <td>2</td>\n",
       "      <td>0</td>\n",
       "      <td>44</td>\n",
       "      <td>1</td>\n",
       "    </tr>\n",
       "    <tr>\n",
       "      <th>739</th>\n",
       "      <td>3</td>\n",
       "      <td>1</td>\n",
       "      <td>2</td>\n",
       "      <td>0.0</td>\n",
       "      <td>1</td>\n",
       "      <td>161</td>\n",
       "      <td>1</td>\n",
       "      <td>128</td>\n",
       "      <td>0</td>\n",
       "      <td>1</td>\n",
       "      <td>52</td>\n",
       "      <td>0</td>\n",
       "    </tr>\n",
       "    <tr>\n",
       "      <th>843</th>\n",
       "      <td>2</td>\n",
       "      <td>0</td>\n",
       "      <td>2</td>\n",
       "      <td>0.0</td>\n",
       "      <td>0</td>\n",
       "      <td>125</td>\n",
       "      <td>0</td>\n",
       "      <td>160</td>\n",
       "      <td>3</td>\n",
       "      <td>1</td>\n",
       "      <td>59</td>\n",
       "      <td>0</td>\n",
       "    </tr>\n",
       "    <tr>\n",
       "      <th>878</th>\n",
       "      <td>3</td>\n",
       "      <td>1</td>\n",
       "      <td>1</td>\n",
       "      <td>1.4</td>\n",
       "      <td>0</td>\n",
       "      <td>113</td>\n",
       "      <td>1</td>\n",
       "      <td>120</td>\n",
       "      <td>0</td>\n",
       "      <td>1</td>\n",
       "      <td>54</td>\n",
       "      <td>0</td>\n",
       "    </tr>\n",
       "  </tbody>\n",
       "</table>\n",
       "<p>302 rows × 12 columns</p>\n",
       "</div>"
      ],
      "text/plain": [
       "     thal  ca  slope  oldpeak  exang  thalach  restecg  trestbps  cp  sex  \\\n",
       "0       3   2      2      1.0      0      168        1       125   0    1   \n",
       "1       3   0      0      3.1      1      155        0       140   0    1   \n",
       "2       3   0      0      2.6      1      125        1       145   0    1   \n",
       "3       3   1      2      0.0      0      161        1       148   0    1   \n",
       "4       2   3      1      1.9      0      106        1       138   0    0   \n",
       "..    ...  ..    ...      ...    ...      ...      ...       ...  ..  ...   \n",
       "723     2   0      1      1.5      0      115        0       120   2    0   \n",
       "733     2   0      1      0.6      0      175        1       108   2    0   \n",
       "739     3   1      2      0.0      1      161        1       128   0    1   \n",
       "843     2   0      2      0.0      0      125        0       160   3    1   \n",
       "878     3   1      1      1.4      0      113        1       120   0    1   \n",
       "\n",
       "     age  target  \n",
       "0     52       0  \n",
       "1     53       0  \n",
       "2     70       0  \n",
       "3     61       0  \n",
       "4     62       0  \n",
       "..   ...     ...  \n",
       "723   68       1  \n",
       "733   44       1  \n",
       "739   52       0  \n",
       "843   59       0  \n",
       "878   54       0  \n",
       "\n",
       "[302 rows x 12 columns]"
      ]
     },
     "metadata": {},
     "output_type": "display_data"
    }
   ],
   "source": [
    "knn_df = cleandata[['thal', 'ca', 'slope', 'oldpeak', 'exang', \n",
    "                     'thalach', 'restecg', 'trestbps', 'cp', 'sex', 'age', 'target']]\n",
    "display(knn_df)"
   ]
  },
  {
   "cell_type": "code",
   "execution_count": 95,
   "id": "17ccf685",
   "metadata": {
    "scrolled": true
   },
   "outputs": [
    {
     "data": {
      "text/html": [
       "<div>\n",
       "<style scoped>\n",
       "    .dataframe tbody tr th:only-of-type {\n",
       "        vertical-align: middle;\n",
       "    }\n",
       "\n",
       "    .dataframe tbody tr th {\n",
       "        vertical-align: top;\n",
       "    }\n",
       "\n",
       "    .dataframe thead th {\n",
       "        text-align: right;\n",
       "    }\n",
       "</style>\n",
       "<table border=\"1\" class=\"dataframe\">\n",
       "  <thead>\n",
       "    <tr style=\"text-align: right;\">\n",
       "      <th></th>\n",
       "      <th>thal</th>\n",
       "      <th>ca</th>\n",
       "      <th>slope</th>\n",
       "      <th>oldpeak</th>\n",
       "      <th>exang</th>\n",
       "      <th>thalach</th>\n",
       "      <th>restecg</th>\n",
       "      <th>trestbps</th>\n",
       "      <th>cp</th>\n",
       "      <th>sex</th>\n",
       "      <th>age</th>\n",
       "    </tr>\n",
       "  </thead>\n",
       "  <tbody>\n",
       "    <tr>\n",
       "      <th>4</th>\n",
       "      <td>2</td>\n",
       "      <td>3</td>\n",
       "      <td>1</td>\n",
       "      <td>1.9</td>\n",
       "      <td>0</td>\n",
       "      <td>106</td>\n",
       "      <td>1</td>\n",
       "      <td>138</td>\n",
       "      <td>0</td>\n",
       "      <td>0</td>\n",
       "      <td>62</td>\n",
       "    </tr>\n",
       "    <tr>\n",
       "      <th>168</th>\n",
       "      <td>2</td>\n",
       "      <td>1</td>\n",
       "      <td>2</td>\n",
       "      <td>1.9</td>\n",
       "      <td>0</td>\n",
       "      <td>162</td>\n",
       "      <td>1</td>\n",
       "      <td>130</td>\n",
       "      <td>2</td>\n",
       "      <td>1</td>\n",
       "      <td>43</td>\n",
       "    </tr>\n",
       "    <tr>\n",
       "      <th>348</th>\n",
       "      <td>3</td>\n",
       "      <td>4</td>\n",
       "      <td>1</td>\n",
       "      <td>0.1</td>\n",
       "      <td>1</td>\n",
       "      <td>143</td>\n",
       "      <td>0</td>\n",
       "      <td>132</td>\n",
       "      <td>0</td>\n",
       "      <td>1</td>\n",
       "      <td>43</td>\n",
       "    </tr>\n",
       "    <tr>\n",
       "      <th>107</th>\n",
       "      <td>3</td>\n",
       "      <td>1</td>\n",
       "      <td>1</td>\n",
       "      <td>1.4</td>\n",
       "      <td>0</td>\n",
       "      <td>103</td>\n",
       "      <td>0</td>\n",
       "      <td>120</td>\n",
       "      <td>1</td>\n",
       "      <td>1</td>\n",
       "      <td>62</td>\n",
       "    </tr>\n",
       "    <tr>\n",
       "      <th>126</th>\n",
       "      <td>2</td>\n",
       "      <td>0</td>\n",
       "      <td>1</td>\n",
       "      <td>0.4</td>\n",
       "      <td>0</td>\n",
       "      <td>151</td>\n",
       "      <td>0</td>\n",
       "      <td>120</td>\n",
       "      <td>0</td>\n",
       "      <td>1</td>\n",
       "      <td>66</td>\n",
       "    </tr>\n",
       "    <tr>\n",
       "      <th>...</th>\n",
       "      <td>...</td>\n",
       "      <td>...</td>\n",
       "      <td>...</td>\n",
       "      <td>...</td>\n",
       "      <td>...</td>\n",
       "      <td>...</td>\n",
       "      <td>...</td>\n",
       "      <td>...</td>\n",
       "      <td>...</td>\n",
       "      <td>...</td>\n",
       "      <td>...</td>\n",
       "    </tr>\n",
       "    <tr>\n",
       "      <th>174</th>\n",
       "      <td>3</td>\n",
       "      <td>1</td>\n",
       "      <td>1</td>\n",
       "      <td>2.8</td>\n",
       "      <td>1</td>\n",
       "      <td>126</td>\n",
       "      <td>1</td>\n",
       "      <td>110</td>\n",
       "      <td>0</td>\n",
       "      <td>1</td>\n",
       "      <td>54</td>\n",
       "    </tr>\n",
       "    <tr>\n",
       "      <th>149</th>\n",
       "      <td>2</td>\n",
       "      <td>0</td>\n",
       "      <td>2</td>\n",
       "      <td>0.0</td>\n",
       "      <td>0</td>\n",
       "      <td>182</td>\n",
       "      <td>0</td>\n",
       "      <td>140</td>\n",
       "      <td>2</td>\n",
       "      <td>1</td>\n",
       "      <td>39</td>\n",
       "    </tr>\n",
       "    <tr>\n",
       "      <th>20</th>\n",
       "      <td>2</td>\n",
       "      <td>0</td>\n",
       "      <td>1</td>\n",
       "      <td>3.0</td>\n",
       "      <td>0</td>\n",
       "      <td>155</td>\n",
       "      <td>0</td>\n",
       "      <td>140</td>\n",
       "      <td>2</td>\n",
       "      <td>1</td>\n",
       "      <td>60</td>\n",
       "    </tr>\n",
       "    <tr>\n",
       "      <th>48</th>\n",
       "      <td>2</td>\n",
       "      <td>1</td>\n",
       "      <td>1</td>\n",
       "      <td>0.0</td>\n",
       "      <td>0</td>\n",
       "      <td>152</td>\n",
       "      <td>0</td>\n",
       "      <td>146</td>\n",
       "      <td>2</td>\n",
       "      <td>0</td>\n",
       "      <td>66</td>\n",
       "    </tr>\n",
       "    <tr>\n",
       "      <th>50</th>\n",
       "      <td>2</td>\n",
       "      <td>0</td>\n",
       "      <td>2</td>\n",
       "      <td>1.0</td>\n",
       "      <td>0</td>\n",
       "      <td>162</td>\n",
       "      <td>0</td>\n",
       "      <td>150</td>\n",
       "      <td>3</td>\n",
       "      <td>0</td>\n",
       "      <td>58</td>\n",
       "    </tr>\n",
       "  </tbody>\n",
       "</table>\n",
       "<p>241 rows × 11 columns</p>\n",
       "</div>"
      ],
      "text/plain": [
       "     thal  ca  slope  oldpeak  exang  thalach  restecg  trestbps  cp  sex  age\n",
       "4       2   3      1      1.9      0      106        1       138   0    0   62\n",
       "168     2   1      2      1.9      0      162        1       130   2    1   43\n",
       "348     3   4      1      0.1      1      143        0       132   0    1   43\n",
       "107     3   1      1      1.4      0      103        0       120   1    1   62\n",
       "126     2   0      1      0.4      0      151        0       120   0    1   66\n",
       "..    ...  ..    ...      ...    ...      ...      ...       ...  ..  ...  ...\n",
       "174     3   1      1      2.8      1      126        1       110   0    1   54\n",
       "149     2   0      2      0.0      0      182        0       140   2    1   39\n",
       "20      2   0      1      3.0      0      155        0       140   2    1   60\n",
       "48      2   1      1      0.0      0      152        0       146   2    0   66\n",
       "50      2   0      2      1.0      0      162        0       150   3    0   58\n",
       "\n",
       "[241 rows x 11 columns]"
      ]
     },
     "execution_count": 95,
     "metadata": {},
     "output_type": "execute_result"
    }
   ],
   "source": [
    "\n",
    "from sklearn.neighbors import KNeighborsClassifier\n",
    "from sklearn.model_selection import train_test_split\n",
    "\n",
    "#randomly shuffle the dataframe first\n",
    "knn_df = knn_df.sample(frac=1)\n",
    "\n",
    "# Split to X and Y\n",
    "X = knn_df.loc[:, knn_df.columns != 'target'] # features\n",
    "Y = knn_df.loc[:, 'target'].values # labels\n",
    "\n",
    "# Split to train and test\n",
    "X_train, X_test, Y_train, Y_test = train_test_split(X, Y, test_size=0.20)\n",
    "X_train"
   ]
  },
  {
   "cell_type": "markdown",
   "id": "bdf53ba0",
   "metadata": {},
   "source": [
    "#### ננרמל את הנתונים "
   ]
  },
  {
   "cell_type": "code",
   "execution_count": 96,
   "id": "f1fef009",
   "metadata": {},
   "outputs": [
    {
     "data": {
      "text/html": [
       "<div>\n",
       "<style scoped>\n",
       "    .dataframe tbody tr th:only-of-type {\n",
       "        vertical-align: middle;\n",
       "    }\n",
       "\n",
       "    .dataframe tbody tr th {\n",
       "        vertical-align: top;\n",
       "    }\n",
       "\n",
       "    .dataframe thead th {\n",
       "        text-align: right;\n",
       "    }\n",
       "</style>\n",
       "<table border=\"1\" class=\"dataframe\">\n",
       "  <thead>\n",
       "    <tr style=\"text-align: right;\">\n",
       "      <th></th>\n",
       "      <th>thal</th>\n",
       "      <th>ca</th>\n",
       "      <th>slope</th>\n",
       "      <th>oldpeak</th>\n",
       "      <th>exang</th>\n",
       "      <th>thalach</th>\n",
       "      <th>restecg</th>\n",
       "      <th>trestbps</th>\n",
       "      <th>cp</th>\n",
       "      <th>sex</th>\n",
       "      <th>age</th>\n",
       "    </tr>\n",
       "  </thead>\n",
       "  <tbody>\n",
       "    <tr>\n",
       "      <th>count</th>\n",
       "      <td>2.410000e+02</td>\n",
       "      <td>2.410000e+02</td>\n",
       "      <td>2.410000e+02</td>\n",
       "      <td>2.410000e+02</td>\n",
       "      <td>2.410000e+02</td>\n",
       "      <td>2.410000e+02</td>\n",
       "      <td>2.410000e+02</td>\n",
       "      <td>2.410000e+02</td>\n",
       "      <td>2.410000e+02</td>\n",
       "      <td>2.410000e+02</td>\n",
       "      <td>2.410000e+02</td>\n",
       "    </tr>\n",
       "    <tr>\n",
       "      <th>mean</th>\n",
       "      <td>1.976289e-16</td>\n",
       "      <td>-4.284263e-17</td>\n",
       "      <td>1.096403e-16</td>\n",
       "      <td>-8.306518e-17</td>\n",
       "      <td>-3.224714e-17</td>\n",
       "      <td>-5.661677e-16</td>\n",
       "      <td>-1.842694e-17</td>\n",
       "      <td>3.593253e-17</td>\n",
       "      <td>7.370775e-17</td>\n",
       "      <td>-5.896620e-17</td>\n",
       "      <td>-2.681120e-16</td>\n",
       "    </tr>\n",
       "    <tr>\n",
       "      <th>std</th>\n",
       "      <td>1.002081e+00</td>\n",
       "      <td>1.002081e+00</td>\n",
       "      <td>1.002081e+00</td>\n",
       "      <td>1.002081e+00</td>\n",
       "      <td>1.002081e+00</td>\n",
       "      <td>1.002081e+00</td>\n",
       "      <td>1.002081e+00</td>\n",
       "      <td>1.002081e+00</td>\n",
       "      <td>1.002081e+00</td>\n",
       "      <td>1.002081e+00</td>\n",
       "      <td>1.002081e+00</td>\n",
       "    </tr>\n",
       "    <tr>\n",
       "      <th>min</th>\n",
       "      <td>-3.636825e+00</td>\n",
       "      <td>-7.295811e-01</td>\n",
       "      <td>-2.237714e+00</td>\n",
       "      <td>-8.957192e-01</td>\n",
       "      <td>-6.721661e-01</td>\n",
       "      <td>-3.524389e+00</td>\n",
       "      <td>-1.057757e+00</td>\n",
       "      <td>-2.089935e+00</td>\n",
       "      <td>-9.246317e-01</td>\n",
       "      <td>-1.473449e+00</td>\n",
       "      <td>-2.804143e+00</td>\n",
       "    </tr>\n",
       "    <tr>\n",
       "      <th>25%</th>\n",
       "      <td>-4.554282e-01</td>\n",
       "      <td>-7.295811e-01</td>\n",
       "      <td>-6.326869e-01</td>\n",
       "      <td>-8.957192e-01</td>\n",
       "      <td>-6.721661e-01</td>\n",
       "      <td>-7.226299e-01</td>\n",
       "      <td>-1.057757e+00</td>\n",
       "      <td>-6.226485e-01</td>\n",
       "      <td>-9.246317e-01</td>\n",
       "      <td>-1.473449e+00</td>\n",
       "      <td>-6.998868e-01</td>\n",
       "    </tr>\n",
       "    <tr>\n",
       "      <th>50%</th>\n",
       "      <td>-4.554282e-01</td>\n",
       "      <td>-7.295811e-01</td>\n",
       "      <td>-6.326869e-01</td>\n",
       "      <td>-2.908039e-01</td>\n",
       "      <td>-6.721661e-01</td>\n",
       "      <td>1.668175e-01</td>\n",
       "      <td>8.589301e-01</td>\n",
       "      <td>-5.830744e-02</td>\n",
       "      <td>5.272023e-02</td>\n",
       "      <td>6.786796e-01</td>\n",
       "      <td>7.536536e-02</td>\n",
       "    </tr>\n",
       "    <tr>\n",
       "      <th>75%</th>\n",
       "      <td>1.135270e+00</td>\n",
       "      <td>2.694476e-01</td>\n",
       "      <td>9.723399e-01</td>\n",
       "      <td>4.869442e-01</td>\n",
       "      <td>1.487728e+00</td>\n",
       "      <td>7.894307e-01</td>\n",
       "      <td>8.589301e-01</td>\n",
       "      <td>5.060337e-01</td>\n",
       "      <td>1.030072e+00</td>\n",
       "      <td>6.786796e-01</td>\n",
       "      <td>7.398672e-01</td>\n",
       "    </tr>\n",
       "    <tr>\n",
       "      <th>max</th>\n",
       "      <td>1.135270e+00</td>\n",
       "      <td>3.266533e+00</td>\n",
       "      <td>9.723399e-01</td>\n",
       "      <td>4.462101e+00</td>\n",
       "      <td>1.487728e+00</td>\n",
       "      <td>2.301491e+00</td>\n",
       "      <td>2.775617e+00</td>\n",
       "      <td>3.892080e+00</td>\n",
       "      <td>2.007424e+00</td>\n",
       "      <td>6.786796e-01</td>\n",
       "      <td>2.511872e+00</td>\n",
       "    </tr>\n",
       "  </tbody>\n",
       "</table>\n",
       "</div>"
      ],
      "text/plain": [
       "               thal            ca         slope       oldpeak         exang  \\\n",
       "count  2.410000e+02  2.410000e+02  2.410000e+02  2.410000e+02  2.410000e+02   \n",
       "mean   1.976289e-16 -4.284263e-17  1.096403e-16 -8.306518e-17 -3.224714e-17   \n",
       "std    1.002081e+00  1.002081e+00  1.002081e+00  1.002081e+00  1.002081e+00   \n",
       "min   -3.636825e+00 -7.295811e-01 -2.237714e+00 -8.957192e-01 -6.721661e-01   \n",
       "25%   -4.554282e-01 -7.295811e-01 -6.326869e-01 -8.957192e-01 -6.721661e-01   \n",
       "50%   -4.554282e-01 -7.295811e-01 -6.326869e-01 -2.908039e-01 -6.721661e-01   \n",
       "75%    1.135270e+00  2.694476e-01  9.723399e-01  4.869442e-01  1.487728e+00   \n",
       "max    1.135270e+00  3.266533e+00  9.723399e-01  4.462101e+00  1.487728e+00   \n",
       "\n",
       "            thalach       restecg      trestbps            cp           sex  \\\n",
       "count  2.410000e+02  2.410000e+02  2.410000e+02  2.410000e+02  2.410000e+02   \n",
       "mean  -5.661677e-16 -1.842694e-17  3.593253e-17  7.370775e-17 -5.896620e-17   \n",
       "std    1.002081e+00  1.002081e+00  1.002081e+00  1.002081e+00  1.002081e+00   \n",
       "min   -3.524389e+00 -1.057757e+00 -2.089935e+00 -9.246317e-01 -1.473449e+00   \n",
       "25%   -7.226299e-01 -1.057757e+00 -6.226485e-01 -9.246317e-01 -1.473449e+00   \n",
       "50%    1.668175e-01  8.589301e-01 -5.830744e-02  5.272023e-02  6.786796e-01   \n",
       "75%    7.894307e-01  8.589301e-01  5.060337e-01  1.030072e+00  6.786796e-01   \n",
       "max    2.301491e+00  2.775617e+00  3.892080e+00  2.007424e+00  6.786796e-01   \n",
       "\n",
       "                age  \n",
       "count  2.410000e+02  \n",
       "mean  -2.681120e-16  \n",
       "std    1.002081e+00  \n",
       "min   -2.804143e+00  \n",
       "25%   -6.998868e-01  \n",
       "50%    7.536536e-02  \n",
       "75%    7.398672e-01  \n",
       "max    2.511872e+00  "
      ]
     },
     "execution_count": 96,
     "metadata": {},
     "output_type": "execute_result"
    }
   ],
   "source": [
    "\n",
    "from sklearn.preprocessing import StandardScaler\n",
    "df_columns = X_train.columns\n",
    "scaler = StandardScaler()\n",
    "scaled_X_train = scaler.fit_transform(X_train)\n",
    "# note the difference between scaling the train and the test!\n",
    "scaled_X_test = scaler.transform(X_test)\n",
    "\n",
    "scaled_df = pd.DataFrame(scaled_X_train, columns=df_columns)\n",
    "scaled_df.describe()"
   ]
  },
  {
   "cell_type": "code",
   "execution_count": 100,
   "id": "7894a451",
   "metadata": {},
   "outputs": [
    {
     "name": "stdout",
     "output_type": "stream",
     "text": [
      "Highest accuracy is obtained for k = 6 and equals 0.8588333333333333\n"
     ]
    },
    {
     "data": {
      "text/plain": [
       "Text(0.5, 1.0, 'Accuracy for k')"
      ]
     },
     "execution_count": 100,
     "metadata": {},
     "output_type": "execute_result"
    },
    {
     "data": {
      "image/png": "[encoded data removed]",
      "text/plain": [
       "<Figure size 432x288 with 1 Axes>"
      ]
     },
     "metadata": {
      "needs_background": "light"
     },
     "output_type": "display_data"
    }
   ],
   "source": [
    "#run 10-fold CV to find optimal k - using only the training data\n",
    "from sklearn.model_selection import cross_val_score\n",
    "\n",
    "mean_cv_scores = []\n",
    "k_list = range(1, 20)\n",
    "for nn in k_list:\n",
    "    knn_cv = KNeighborsClassifier(n_neighbors=nn)\n",
    "    cv_scores = cross_val_score(knn_cv, scaled_X_train, Y_train, cv=10)\n",
    "    mean_cv_scores.append(cv_scores.mean())\n",
    "    \n",
    "# output results\n",
    "best_k = mean_cv_scores.index(max(mean_cv_scores))+1 # gets index of best performing k and adds 1\n",
    "print('Highest accuracy is obtained for k =', best_k, 'and equals', max(mean_cv_scores))\n",
    "plt.plot(k_list, mean_cv_scores, '-o')\n",
    "plt.xlabel('Number of neighbors (k)')\n",
    "plt.ylabel('Accuracy');\n",
    "plt.title('Accuracy for k')"
   ]
  },
  {
   "cell_type": "code",
   "execution_count": 98,
   "id": "7533018b",
   "metadata": {},
   "outputs": [
    {
     "name": "stdout",
     "output_type": "stream",
     "text": [
      "accuracy of the classifier is 0.8032786885245902\n"
     ]
    },
    {
     "data": {
      "text/plain": [
       "array([[22,  3],\n",
       "       [ 9, 27]], dtype=int64)"
      ]
     },
     "execution_count": 98,
     "metadata": {},
     "output_type": "execute_result"
    }
   ],
   "source": [
    "# Last, we need to retrain our chosen kNN on the whole training data and test its accuracy on the test data\n",
    "from sklearn.metrics import confusion_matrix\n",
    "knn_classifier = KNeighborsClassifier(n_neighbors=best_k)  \n",
    "knn_classifier.fit(scaled_X_train, Y_train)\n",
    "print('accuracy of the classifier is', knn_classifier.score(scaled_X_test, Y_test))\n",
    "\n",
    "# Compute a confusion matrix\n",
    "predictions = knn_classifier.predict(X=scaled_X_test) # get the classifier's predictions \n",
    "confusion_matrix(y_true=Y_test, y_pred=predictions, labels=[0, 1]) # rows are true values, columns are predicted values"
   ]
  },
  {
   "cell_type": "code",
   "execution_count": null,
   "id": "c16917cc",
   "metadata": {},
   "outputs": [],
   "source": []
  }
 ],
 "metadata": {
  "kernelspec": {
   "display_name": "Python 3",
   "language": "python",
   "name": "python3"
  },
  "language_info": {
   "codemirror_mode": {
    "name": "ipython",
    "version": 3
   },
   "file_extension": ".py",
   "mimetype": "text/x-python",
   "name": "python",
   "nbconvert_exporter": "python",
   "pygments_lexer": "ipython3",
   "version": "3.8.8"
  }
 },
 "nbformat": 4,
 "nbformat_minor": 5
}
